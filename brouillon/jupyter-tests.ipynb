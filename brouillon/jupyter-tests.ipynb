{
 "cells": [
  {
   "attachments": {},
   "cell_type": "markdown",
   "metadata": {},
   "source": []
  },
  {
   "cell_type": "code",
   "execution_count": null,
   "metadata": {},
   "outputs": [],
   "source": []
  },
  {
   "cell_type": "code",
   "execution_count": 3,
   "metadata": {},
   "outputs": [],
   "source": [
    "partition_1 = [[1,2,3],[4,5,6],[7,8,9]]\n",
    "partition_2 = [[1,2,3,4],[5,6,7,8],[9]]\n",
    "\n",
    "# [1,2,3],[4],[5,6],[7,8],[9]\n",
    "\n",
    "\n",
    "def intersection(set_1,set_2) :\n",
    "    \"\"\"Returns card(set_1 inter set_2)\"\"\"\n",
    "    list = []\n",
    "    for i in set_1 :\n",
    "        if i in set_2 :\n",
    "            list.append(i)\n",
    "    return list\n",
    "\n",
    "def joint_partition(partition_1, partition_2) :\n",
    "    \"\"\"Returns the joint partition of two partitions.\"\"\"\n",
    "    \n",
    "    joint_partition_output = []\n",
    "\n",
    "    for i in range(len(partition_1)) :\n",
    "      for j in range(len(partition_2)) :\n",
    "        if len(intersection(partition_1[i],partition_2[j])) > 0 :\n",
    "            joint_partition_output.append(intersection(partition_1[i],partition_2[j]))\n",
    "\n",
    "    return joint_partition_output\n"
   ]
  },
  {
   "cell_type": "code",
   "execution_count": 4,
   "metadata": {},
   "outputs": [
    {
     "data": {
      "text/plain": [
       "[[1, 2, 3], [4], [5, 6], [7, 8], [9]]"
      ]
     },
     "execution_count": 4,
     "metadata": {},
     "output_type": "execute_result"
    }
   ],
   "source": [
    "partition_1 = [[1,2,3],[4,5,6],[7,8,9]]\n",
    "partition_2 = [[1,2,3,4],[5,6,7,8],[9]]\n",
    "joint_partition(partition_1, partition_2)"
   ]
  },
  {
   "cell_type": "code",
   "execution_count": 1,
   "metadata": {},
   "outputs": [],
   "source": [
    "import numpy as np \n",
    "\n",
    "def generate_random_partition(N) :\n",
    "  \"\"\"Generates a random partition of N elements (in {1,...,N})\"\"\"\n",
    "\n",
    "  random_size = np.random.randint(1,N+1)\n",
    "  partition = []\n",
    "  current_number = 1\n",
    "  while current_number <= N :\n",
    "    current_set = []\n",
    "\n",
    "    if current_number + random_size > N :\n",
    "      random_size = max(1,N - current_number)\n",
    "\n",
    "    for i in range(random_size) :\n",
    "      current_set.append(current_number)\n",
    "      current_number+=1\n",
    "\n",
    "    partition.append(current_set)\n",
    "    random_size = np.random.randint(1,N+1)\n",
    "\n",
    "  return partition\n"
   ]
  },
  {
   "cell_type": "code",
   "execution_count": null,
   "metadata": {},
   "outputs": [],
   "source": []
  },
  {
   "cell_type": "code",
   "execution_count": 2,
   "metadata": {},
   "outputs": [],
   "source": [
    "def permutation_list(list) :\n",
    "  \"\"\"Returns a random permutation of the elements of the list.\"\"\"\n",
    "  n = len(list)\n",
    "  permuted_list = []\n",
    "  indices_permuted = np.random.permutation(n)\n",
    "\n",
    "  for i in indices_permuted :\n",
    "    permuted_list.append(list[i])\n",
    "\n",
    "  return permuted_list"
   ]
  },
  {
   "cell_type": "code",
   "execution_count": 3,
   "metadata": {},
   "outputs": [
    {
     "name": "stdout",
     "output_type": "stream",
     "text": [
      "[[1], [2, 3, 4], [5, 6, 7, 8], [9]]\n",
      "[[1], [2, 3, 4], [9], [5, 6, 7, 8]]\n"
     ]
    }
   ],
   "source": [
    "partition = generate_random_partition(9)\n",
    "print(partition)\n",
    "print(permutation_list(partition))"
   ]
  },
  {
   "cell_type": "code",
   "execution_count": 34,
   "metadata": {},
   "outputs": [],
   "source": [
    "def generate_random_A(N) :\n",
    "  length_A = np.random.randint(1,N+1)\n",
    "  A = []\n",
    "  while len(A)!=length_A:\n",
    "    a = np.random.randint(1,N+1)\n",
    "    if a not in A :\n",
    "      A.append(a)   \n",
    "  return A "
   ]
  },
  {
   "cell_type": "code",
   "execution_count": 47,
   "metadata": {},
   "outputs": [
    {
     "data": {
      "text/plain": [
       "[2, 7, 6, 10, 9, 1, 4]"
      ]
     },
     "execution_count": 47,
     "metadata": {},
     "output_type": "execute_result"
    }
   ],
   "source": [
    "N = 10\n",
    "np.random.seed(9999)\n",
    "generate_random_A(N)"
   ]
  },
  {
   "cell_type": "code",
   "execution_count": 63,
   "metadata": {},
   "outputs": [
    {
     "name": "stdout",
     "output_type": "stream",
     "text": [
      "None\n"
     ]
    }
   ],
   "source": [
    "def all_items_equality_check(dict) :\n",
    "  first = True\n",
    "  for key in dict.keys() :\n",
    "    if first :\n",
    "      first_value = dict[key]\n",
    "      first = False\n",
    "    else : \n",
    "      value = dict[key]\n",
    "      assert value == first_value\n",
    "\n",
    "dict = {'a' : ([0],[0]), 'b': ([0],[0])}\n",
    "print(all_items_equality_check(dict))"
   ]
  },
  {
   "attachments": {},
   "cell_type": "markdown",
   "metadata": {},
   "source": [
    "### Second article"
   ]
  },
  {
   "cell_type": "code",
   "execution_count": 139,
   "metadata": {},
   "outputs": [],
   "source": [
    "import numpy as np\n",
    "\n",
    "# Useful functions \n",
    "def generate_transition_matrix(K,seed) :\n",
    "  np.random.seed(seed)\n",
    "  M = np.random.uniform(0,1,(K,K))\n",
    "  Sums = np.sum(M,axis = 1).reshape(-1,1)\n",
    "  Sums_reshaped = np.repeat(Sums, repeats = K, axis = 1)\n",
    "  P = M / Sums_reshaped\n",
    "\n",
    "  assert np.sum(P,axis=1).all() == 1.000\n",
    "\n",
    "  return P\n",
    "\n",
    "def max_diff(M) :\n",
    "  \"\"\"Returns the maximum absolute difference between the components of a numpy matrix M.\"\"\"\n",
    "  F = M.flatten().reshape(-1,1)\n",
    "  n,_ = np.shape(F)\n",
    "  dist_matrix = np.zeros((n,n))\n",
    "  for i in range(n) :\n",
    "      for j in range(n) :\n",
    "        dist_matrix[i,j] = np.abs(F[i]-F[j])\n",
    "  return np.max(dist_matrix)\n"
   ]
  },
  {
   "cell_type": "code",
   "execution_count": 143,
   "metadata": {},
   "outputs": [],
   "source": [
    "# Constants\n",
    "seed = 123\n",
    "K = 5 # Number of individuals\n",
    "P = generate_transition_matrix(K,seed)\n",
    "F_init = np.random.uniform(0,1,(K,1))\n",
    "epsilon = 1e-2"
   ]
  },
  {
   "cell_type": "code",
   "execution_count": 142,
   "metadata": {},
   "outputs": [],
   "source": [
    "# Execution of the algorithm\n",
    "\n",
    "def consensus(number_it_fixed, P, F_init, K, seed=123, epsilon=1e-2,number_it_max = 1000) :\n",
    "  \"\"\"Execution of the consensus algorithm from Morris H. DeGroot, Reaching a Consensus (Journal of American Statistical Association, 1974).\n",
    "\n",
    "  Args:\n",
    "      number_it_fixed (bool): Sets whether the number the iterations of the algorithm is fixed. \n",
    "      P (_type_): Transition (stochastic) matrix. \n",
    "      F_init (_type_): Initial guesses of the players. \n",
    "      K (_type_): Number of players. \n",
    "      seed (_type_): Seed. Defaults to seed.\n",
    "      epsilon (_type_): Tolerance when number_it_fixed=False. Defaults to epsilon.\n",
    "      number_it_max: Maximum number of iterations. \n",
    "  \"\"\"\n",
    "\n",
    "  F = F_init\n",
    "\n",
    "  if number_it_fixed :\n",
    "    return np.matmul(np.power(P,number_it_fixed),F)\n",
    "  \n",
    "  else :\n",
    "    number_it = 0\n",
    "    while max_diff(F) > epsilon: \n",
    "      number_it +=1\n",
    "      F = np.matmul(P,F)\n",
    "      if number_it>number_it_max :\n",
    "        print(\"Maximum iterations reached\")\n",
    "        return F   \n",
    "    print(\"Tolerance reached\") \n",
    "    return F \n",
    "\n",
    "    "
   ]
  },
  {
   "cell_type": "code",
   "execution_count": 145,
   "metadata": {},
   "outputs": [
    {
     "name": "stdout",
     "output_type": "stream",
     "text": [
      "Tolerance reached\n"
     ]
    },
    {
     "data": {
      "text/plain": [
       "array([[0.37825055],\n",
       "       [0.37558329],\n",
       "       [0.37455254],\n",
       "       [0.37895192],\n",
       "       [0.37628873]])"
      ]
     },
     "execution_count": 145,
     "metadata": {},
     "output_type": "execute_result"
    }
   ],
   "source": [
    "consensus(number_it_fixed=False, P=P, F_init = F_init, K=K, seed=123, epsilon=1e-2,number_it_max = 1000)"
   ]
  },
  {
   "cell_type": "code",
   "execution_count": 4,
   "metadata": {},
   "outputs": [],
   "source": [
    "def permutation_inside_sets(partition, seed=123) :\n",
    "  \"\"\"Permutes randomly the order of the sets elements in a partition.\"\"\"\n",
    "  np.random.seed(seed) # Set the seed. \n",
    "  perm_partition = []\n",
    "  for set in partition :\n",
    "    n = len(set)\n",
    "    perm_set = permutation_list(set)\n",
    "    perm_partition.append(perm_set)\n",
    "  return perm_partition"
   ]
  },
  {
   "cell_type": "code",
   "execution_count": 8,
   "metadata": {},
   "outputs": [],
   "source": [
    "def has_crossed(list_qt_alpha_proba, list_qt_beta_proba) :\n",
    "  \"\"\"Returns true if there was a crossing, false elsewhere.\"\"\"\n",
    "  who_is_larger = []\n",
    "  for it in range(len((list_qt_alpha_proba))-1):\n",
    "    if list_qt_alpha_proba[it]>=list_qt_beta_proba[it] :\n",
    "      who_is_larger.append(0)\n",
    "    else :\n",
    "      who_is_larger.append(1)\n",
    "  for it in range(len(who_is_larger)):\n",
    "    if who_is_larger[it]!=who_is_larger[0] :\n",
    "      return True\n",
    "  return False"
   ]
  },
  {
   "cell_type": "code",
   "execution_count": 13,
   "metadata": {},
   "outputs": [
    {
     "data": {
      "text/plain": [
       "False"
      ]
     },
     "execution_count": 13,
     "metadata": {},
     "output_type": "execute_result"
    }
   ],
   "source": [
    "list_qt_alpha_proba = [0.2,0.1,0.4]\n",
    "list_qt_beta_proba = [0.3,0.2,0.4]\n",
    "has_crossed(list_qt_alpha_proba, list_qt_beta_proba)"
   ]
  },
  {
   "cell_type": "code",
   "execution_count": 39,
   "metadata": {},
   "outputs": [],
   "source": [
    "import numpy as np\n",
    "\n",
    "def generate_random_partition(N,seed) :\n",
    "  \"\"\"Generates a random partition of N elements (in {1,...,N})\"\"\"\n",
    "  np.random.seed(seed)\n",
    "  random_size = np.random.randint(1,N+1)\n",
    "  partition = []\n",
    "  current_number = 1\n",
    "  while current_number <= N :\n",
    "    current_set = []\n",
    "\n",
    "    if current_number + random_size > N :\n",
    "      random_size = max(N-current_number,random_size)\n",
    "\n",
    "    for i in range(random_size) :\n",
    "      if current_number <= N :\n",
    "        current_set.append(current_number)\n",
    "        current_number+=1\n",
    "      else :\n",
    "        break\n",
    "\n",
    "    partition.append(current_set)\n",
    "    random_size = np.random.randint(1,N+1)\n",
    "\n",
    "  return partition"
   ]
  },
  {
   "cell_type": "code",
   "execution_count": 40,
   "metadata": {},
   "outputs": [
    {
     "data": {
      "text/plain": [
       "[[1, 2, 3, 4], [5, 6, 7, 8, 9]]"
      ]
     },
     "execution_count": 40,
     "metadata": {},
     "output_type": "execute_result"
    }
   ],
   "source": [
    "N = 9\n",
    "seed = 20\n",
    "generate_random_partition(N,seed)"
   ]
  },
  {
   "cell_type": "code",
   "execution_count": null,
   "metadata": {},
   "outputs": [],
   "source": []
  }
 ],
 "metadata": {
  "kernelspec": {
   "display_name": "base",
   "language": "python",
   "name": "python3"
  },
  "language_info": {
   "codemirror_mode": {
    "name": "ipython",
    "version": 3
   },
   "file_extension": ".py",
   "mimetype": "text/x-python",
   "name": "python",
   "nbconvert_exporter": "python",
   "pygments_lexer": "ipython3",
   "version": "3.8.6"
  },
  "orig_nbformat": 4
 },
 "nbformat": 4,
 "nbformat_minor": 2
}
